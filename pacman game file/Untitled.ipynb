{
 "cells": [
  {
   "cell_type": "code",
   "execution_count": 1,
   "metadata": {},
   "outputs": [],
   "source": [
    "\n",
    "\n",
    "import torch\n",
    "import torch.nn as nn\n",
    "import torch.nn.functional as F\n",
    "import numpy as np"
   ]
  },
  {
   "cell_type": "code",
   "execution_count": 19,
   "metadata": {},
   "outputs": [],
   "source": [
    "#implementation of framework of target net and evaluation net\n",
    "class Net(nn.Module):\n",
    "    def __init__(self, action_num, feature_num):\n",
    "        super(Net, self).__init__()\n",
    "        #the first fully connect layer\n",
    "        self.fc1 = nn.Linear(feature_num, 20)\n",
    "        #randomly initialize the fc layer\n",
    "        self.fc1.weight.data.normal_(0,0.1)\n",
    "        #drop out layer 1\n",
    "        self.drop1 = nn.Dropout(0.2)\n",
    "        # the second fully connect layer\n",
    "        self.fc2 = nn.Linear(20, 10)\n",
    "        # randomly initialize the fc layer\n",
    "        self.fc2.weight.data.normal_(0, 0.1)\n",
    "        # drop out layer 1\n",
    "        self.drop1 = nn.Dropout(0.1)\n",
    "        #out_layer\n",
    "        self.out = nn.Linear(10, action_num)\n",
    "        self.out.weight.data.normal_(0,0.1)\n",
    "        #forward function in pytorch module\n",
    "    def forward(self,x):\n",
    "        #first layer\n",
    "        x = self.fc1(x)\n",
    "        x = self.drop1(x)\n",
    "        x = F.relu(x)\n",
    "        #second layer\n",
    "        x = self.fc2(x)\n",
    "        x = self.drop1(x)\n",
    "        x = F.relu(x)\n",
    "        #output layer\n",
    "        actions_value = self.out(x)\n",
    "        return actions_value"
   ]
  },
  {
   "cell_type": "code",
   "execution_count": 20,
   "metadata": {},
   "outputs": [
    {
     "name": "stdout",
     "output_type": "stream",
     "text": [
      "tensor([[ 0.9987],\n",
      "        [-0.4181],\n",
      "        [ 2.4053],\n",
      "        [-0.1450]])\n",
      "tensor([0, 0, 0, 0])\n"
     ]
    }
   ],
   "source": [
    "actions_value = torch.randn((4,1))\n",
    "print(actions_value)\n",
    "print(torch.max(actions_value, 1)[1])"
   ]
  },
  {
   "cell_type": "code",
   "execution_count": 90,
   "metadata": {},
   "outputs": [
    {
     "name": "stdout",
     "output_type": "stream",
     "text": [
      "tensor([[-0.9901, -0.7676,  0.6552,  0.7930, -0.4817, -0.1406,  1.0469, -1.2071,\n",
      "          1.0672, -0.3268],\n",
      "        [-1.0680,  0.3523,  0.4588, -0.8255,  1.2473, -0.0325, -0.1333, -1.5066,\n",
      "          1.1580, -1.1426],\n",
      "        [-0.8098, -1.1565,  0.3280, -0.6830, -0.3359,  0.0410, -0.5079,  0.5716,\n",
      "          0.0954,  1.0933]])\n",
      "tensor([[-0.1159, -0.1256,  0.0221, -0.2131],\n",
      "        [-0.1424, -0.1184,  0.0534, -0.2163],\n",
      "        [-0.1364, -0.1250,  0.0483, -0.1920]], grad_fn=<AddmmBackward>)\n",
      "tensor([0.0221, 0.0534, 0.0483], grad_fn=<MaxBackward0>)\n",
      "tensor([0.0664, 0.1603, 0.1449], grad_fn=<MulBackward0>)\n",
      "torch.Size([3, 1])\n"
     ]
    }
   ],
   "source": [
    "eval_net = Net(4,10)\n",
    "# x = range(10)\n",
    "# x = torch.unsqueeze(torch.FloatTensor(x), 0)\n",
    "# print(x)\n",
    "\n",
    "x = np.random.randn(3,10)\n",
    "y = 3\n",
    "#y = torch.FloatTensor(y)\n",
    "x = torch.FloatTensor(x)\n",
    "print(x)\n",
    "#print(y.shape)\n",
    "m1 = eval_net.forward(x)\n",
    "print(m1)\n",
    "print(m1.max(1)[0])\n",
    "print(y*m1.max(1)[0])\n",
    "print((y*m1.max(1)[0].view(3,1)).shape)"
   ]
  },
  {
   "cell_type": "code",
   "execution_count": 54,
   "metadata": {},
   "outputs": [
    {
     "name": "stdout",
     "output_type": "stream",
     "text": [
      "[1 3 0 2]\n"
     ]
    },
    {
     "data": {
      "text/plain": [
       "numpy.ndarray"
      ]
     },
     "execution_count": 54,
     "metadata": {},
     "output_type": "execute_result"
    }
   ],
   "source": [
    "print(torch.sort(m1,1,descending = True)[1].data.numpy()[0] )\n",
    "x = torch.sort(m1,1,descending = True)[1].data.numpy()[0]\n",
    "type(x)"
   ]
  },
  {
   "cell_type": "code",
   "execution_count": 57,
   "metadata": {},
   "outputs": [
    {
     "name": "stdout",
     "output_type": "stream",
     "text": [
      "3\n"
     ]
    }
   ],
   "source": [
    "action_sort = []\n",
    "b  = [3,2]\n",
    "for i in range(4):\n",
    "    if (x[i] in b):\n",
    "        action_sort.append(x[i])\n",
    "action = action_sort[0]\n",
    "print(action)"
   ]
  },
  {
   "cell_type": "code",
   "execution_count": 64,
   "metadata": {},
   "outputs": [
    {
     "name": "stdout",
     "output_type": "stream",
     "text": [
      "[1]\n"
     ]
    }
   ],
   "source": [
    "a = torch.max(m1,1)[1].data.numpy()\n",
    "print(a)"
   ]
  },
  {
   "cell_type": "code",
   "execution_count": 41,
   "metadata": {},
   "outputs": [
    {
     "data": {
      "text/plain": [
       "4"
      ]
     },
     "execution_count": 41,
     "metadata": {},
     "output_type": "execute_result"
    }
   ],
   "source": [
    "np.random.choice(range(100))"
   ]
  },
  {
   "cell_type": "code",
   "execution_count": 1,
   "metadata": {},
   "outputs": [
    {
     "ename": "AttributeError",
     "evalue": "'NoneType' object has no attribute 'extend'",
     "output_type": "error",
     "traceback": [
      "\u001b[0;31m---------------------------------------------------------------------------\u001b[0m",
      "\u001b[0;31mAttributeError\u001b[0m                            Traceback (most recent call last)",
      "\u001b[0;32m<ipython-input-1-fecf6e832c51>\u001b[0m in \u001b[0;36m<module>\u001b[0;34m\u001b[0m\n\u001b[1;32m      4\u001b[0m \u001b[0mb\u001b[0m \u001b[0;34m=\u001b[0m \u001b[0mlist\u001b[0m\u001b[0;34m(\u001b[0m\u001b[0ma\u001b[0m\u001b[0;34m)\u001b[0m\u001b[0;34m\u001b[0m\u001b[0;34m\u001b[0m\u001b[0m\n\u001b[1;32m      5\u001b[0m \u001b[0mb\u001b[0m \u001b[0;34m=\u001b[0m \u001b[0mb\u001b[0m\u001b[0;34m.\u001b[0m\u001b[0mextend\u001b[0m\u001b[0;34m(\u001b[0m\u001b[0mlist\u001b[0m\u001b[0;34m(\u001b[0m\u001b[0mc\u001b[0m\u001b[0;34m[\u001b[0m\u001b[0;36m0\u001b[0m\u001b[0;34m]\u001b[0m\u001b[0;34m)\u001b[0m\u001b[0;34m)\u001b[0m\u001b[0;34m\u001b[0m\u001b[0;34m\u001b[0m\u001b[0m\n\u001b[0;32m----> 6\u001b[0;31m \u001b[0mb\u001b[0m\u001b[0;34m.\u001b[0m\u001b[0mextend\u001b[0m\u001b[0;34m(\u001b[0m\u001b[0;34m[\u001b[0m\u001b[0;36m1\u001b[0m\u001b[0;34m]\u001b[0m\u001b[0;34m)\u001b[0m\u001b[0;34m\u001b[0m\u001b[0;34m\u001b[0m\u001b[0m\n\u001b[0m\u001b[1;32m      7\u001b[0m \u001b[0mprint\u001b[0m\u001b[0;34m(\u001b[0m\u001b[0mb\u001b[0m\u001b[0;34m)\u001b[0m\u001b[0;34m\u001b[0m\u001b[0;34m\u001b[0m\u001b[0m\n",
      "\u001b[0;31mAttributeError\u001b[0m: 'NoneType' object has no attribute 'extend'"
     ]
    }
   ],
   "source": [
    "a = (2,5)\n",
    "b = []\n",
    "c = [(2,5)]\n",
    "b = list(a)\n",
    "b.extend(list(c[0]))\n",
    "b.extend([1])\n",
    "print(b)"
   ]
  },
  {
   "cell_type": "code",
   "execution_count": 94,
   "metadata": {},
   "outputs": [
    {
     "name": "stdout",
     "output_type": "stream",
     "text": [
      "tensor([[ 0,  1,  2,  3],\n",
      "        [ 4,  5,  6,  7],\n",
      "        [ 8,  9, 10, 11],\n",
      "        [12, 13, 14, 15]])\n"
     ]
    },
    {
     "data": {
      "text/plain": [
       "torch.return_types.max(\n",
       "values=tensor([ 3,  7, 11, 15]),\n",
       "indices=tensor([3, 3, 3, 3]))"
      ]
     },
     "execution_count": 94,
     "metadata": {},
     "output_type": "execute_result"
    }
   ],
   "source": [
    "a = torch.arange(16).view((4,4))\n",
    "print(a)\n",
    "b = a.max(1)\n",
    "b"
   ]
  },
  {
   "cell_type": "code",
   "execution_count": null,
   "metadata": {},
   "outputs": [],
   "source": []
  }
 ],
 "metadata": {
  "kernelspec": {
   "display_name": "Python 3",
   "language": "python",
   "name": "python3"
  },
  "language_info": {
   "codemirror_mode": {
    "name": "ipython",
    "version": 3
   },
   "file_extension": ".py",
   "mimetype": "text/x-python",
   "name": "python",
   "nbconvert_exporter": "python",
   "pygments_lexer": "ipython3",
   "version": "3.7.3"
  }
 },
 "nbformat": 4,
 "nbformat_minor": 2
}
